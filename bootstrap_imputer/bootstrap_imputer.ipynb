{
 "cells": [
  {
   "cell_type": "markdown",
   "id": "a059ef54-8b05-427f-8402-214e780417ee",
   "metadata": {},
   "source": [
    "# Bootstrap imputer\n",
    "\n",
    "## Idea\n",
    "\n",
    "Missing values are often imputed with the mean or median, because it is the best guess. \n",
    "\n",
    "Instead, I thought to create an imputer that draws a random value from the distribution of the variable, bootstrapping. It also relates to Bayesian modelling. The advantage I recognized was that once all values are imputed, the imputed feature has the same distribution as the original feature (albeit with some values missing). When the mean or median is used to impute, the distribution obviously is more peaked; many values at the median or mean value, thereby also adjusting other statistics, e.g. standard deviation. \n",
    "\n",
    "The mean or median imputed feature performs better in a regression though."
   ]
  },
  {
   "cell_type": "code",
   "execution_count": 1,
   "id": "67ab886a",
   "metadata": {},
   "outputs": [],
   "source": [
    "import numpy as np\n",
    "import matplotlib.pyplot as plt\n",
    "import pandas as pd\n",
    "import statsmodels.api as sm\n",
    "import seaborn as sns\n",
    "\n",
    "from collections import Counter\n",
    "\n",
    "from sklearn.preprocessing import StandardScaler\n",
    "from sklearn.linear_model import LinearRegression\n",
    "from sklearn.pipeline import Pipeline\n",
    "from sklearn.impute import SimpleImputer\n",
    "from sklearn.model_selection import train_test_split\n",
    "from sklearn.metrics import mean_squared_error, mean_absolute_error\n",
    "from sklearn.base import TransformerMixin\n",
    "from sklearn.datasets import make_regression"
   ]
  },
  {
   "cell_type": "code",
   "execution_count": 2,
   "id": "b36c1ca5",
   "metadata": {},
   "outputs": [],
   "source": [
    "class BootstrapImputer(TransformerMixin):\n",
    "    def __init__(self, random_state=None):\n",
    "        # todo: add random state\n",
    "        super().__init__()\n",
    "        self.mem = dict()\n",
    "        \n",
    "    def fit(self, X: pd.DataFrame, y=None):\n",
    "        for c in X.columns:\n",
    "            self.mem[c] = dict(X[c].value_counts())\n",
    "        return self\n",
    "    \n",
    "    def transform(self, X: pd.DataFrame):\n",
    "        X_copy = X.copy()\n",
    "        for c in X_copy.columns:\n",
    "            p = np.array([*(self.mem[c].values())])\n",
    "            random_replacements = np.random.choice(\n",
    "                list(self.mem[c].keys()), \n",
    "                size=X_copy.shape[0], \n",
    "                p=p/p.sum(),\n",
    "            )\n",
    "            isna_mask = X_copy.loc[:, c].isna()\n",
    "            X_copy.loc[isna_mask, c] = random_replacements[isna_mask]\n",
    "        return X_copy.values"
   ]
  },
  {
   "cell_type": "code",
   "execution_count": 3,
   "id": "04082b54",
   "metadata": {},
   "outputs": [],
   "source": [
    "n = 10000"
   ]
  },
  {
   "cell_type": "code",
   "execution_count": 4,
   "id": "338b2fc2",
   "metadata": {},
   "outputs": [],
   "source": [
    "X, y, coefs = make_regression(\n",
    "    n_samples=n,\n",
    "    n_features=3, \n",
    "    n_informative=1,\n",
    "    n_targets=1,\n",
    "    bias=10,\n",
    "    coef=True,\n",
    "    noise=50,\n",
    "    random_state=0,\n",
    ")"
   ]
  },
  {
   "cell_type": "code",
   "execution_count": 5,
   "id": "a4722405",
   "metadata": {},
   "outputs": [
    {
     "data": {
      "text/plain": [
       "array([ 0.        , 79.94907627,  0.        ])"
      ]
     },
     "execution_count": 5,
     "metadata": {},
     "output_type": "execute_result"
    }
   ],
   "source": [
    "coefs"
   ]
  },
  {
   "cell_type": "code",
   "execution_count": 6,
   "id": "c5dfc9c0",
   "metadata": {},
   "outputs": [
    {
     "data": {
      "text/html": [
       "<div>\n",
       "<style scoped>\n",
       "    .dataframe tbody tr th:only-of-type {\n",
       "        vertical-align: middle;\n",
       "    }\n",
       "\n",
       "    .dataframe tbody tr th {\n",
       "        vertical-align: top;\n",
       "    }\n",
       "\n",
       "    .dataframe thead th {\n",
       "        text-align: right;\n",
       "    }\n",
       "</style>\n",
       "<table border=\"1\" class=\"dataframe\">\n",
       "  <thead>\n",
       "    <tr style=\"text-align: right;\">\n",
       "      <th></th>\n",
       "      <th>x_0</th>\n",
       "      <th>x_1</th>\n",
       "      <th>x_2</th>\n",
       "      <th>y</th>\n",
       "    </tr>\n",
       "  </thead>\n",
       "  <tbody>\n",
       "    <tr>\n",
       "      <th>0</th>\n",
       "      <td>0.199479</td>\n",
       "      <td>-0.855201</td>\n",
       "      <td>-0.796763</td>\n",
       "      <td>-23.152322</td>\n",
       "    </tr>\n",
       "    <tr>\n",
       "      <th>1</th>\n",
       "      <td>1.252002</td>\n",
       "      <td>1.384187</td>\n",
       "      <td>-1.144693</td>\n",
       "      <td>112.703167</td>\n",
       "    </tr>\n",
       "    <tr>\n",
       "      <th>2</th>\n",
       "      <td>-0.477076</td>\n",
       "      <td>-0.404238</td>\n",
       "      <td>-0.156454</td>\n",
       "      <td>-95.336396</td>\n",
       "    </tr>\n",
       "    <tr>\n",
       "      <th>3</th>\n",
       "      <td>-0.372357</td>\n",
       "      <td>1.671047</td>\n",
       "      <td>-0.093511</td>\n",
       "      <td>153.678285</td>\n",
       "    </tr>\n",
       "    <tr>\n",
       "      <th>4</th>\n",
       "      <td>-0.524939</td>\n",
       "      <td>1.901340</td>\n",
       "      <td>0.274417</td>\n",
       "      <td>206.830825</td>\n",
       "    </tr>\n",
       "  </tbody>\n",
       "</table>\n",
       "</div>"
      ],
      "text/plain": [
       "        x_0       x_1       x_2           y\n",
       "0  0.199479 -0.855201 -0.796763  -23.152322\n",
       "1  1.252002  1.384187 -1.144693  112.703167\n",
       "2 -0.477076 -0.404238 -0.156454  -95.336396\n",
       "3 -0.372357  1.671047 -0.093511  153.678285\n",
       "4 -0.524939  1.901340  0.274417  206.830825"
      ]
     },
     "execution_count": 6,
     "metadata": {},
     "output_type": "execute_result"
    }
   ],
   "source": [
    "dfX = pd.DataFrame(X, columns=[f'x_{i}' for i in range(X.shape[1])])\n",
    "dfy = pd.DataFrame(y, columns=['y'])\n",
    "df = dfX.join(dfy)\n",
    "df.head()"
   ]
  },
  {
   "cell_type": "code",
   "execution_count": 7,
   "id": "fe7ba9ac",
   "metadata": {
    "scrolled": true
   },
   "outputs": [
    {
     "data": {
      "text/plain": [
       "<matplotlib.collections.PathCollection at 0x1954f40b550>"
      ]
     },
     "execution_count": 7,
     "metadata": {},
     "output_type": "execute_result"
    },
    {
     "data": {
      "image/png": "[encoded data removed]",
      "text/plain": [
       "<Figure size 432x288 with 1 Axes>"
      ]
     },
     "metadata": {
      "needs_background": "light"
     },
     "output_type": "display_data"
    }
   ],
   "source": [
    "# plot data\n",
    "plt.scatter(x=df['x_0'], y=df['y'])"
   ]
  },
  {
   "cell_type": "code",
   "execution_count": 8,
   "id": "0c3a5f6a",
   "metadata": {},
   "outputs": [],
   "source": [
    "prep1 = Pipeline(steps=[\n",
    "    ('imputer', SimpleImputer(strategy='mean')),\n",
    "])\n",
    "prep2 = Pipeline(steps=[\n",
    "    ('imputer', SimpleImputer(strategy='median')),\n",
    "])\n",
    "prep3 = Pipeline(steps=[\n",
    "    ('imputer', BootstrapImputer()),\n",
    "])\n",
    "\n",
    "pipe1 = Pipeline(steps=[\n",
    "    ('prep', prep1),\n",
    "    ('scaler', StandardScaler()),\n",
    "    ('model', LinearRegression()),\n",
    "])\n",
    "\n",
    "pipe2 = Pipeline(steps=[\n",
    "    ('prep', prep2),\n",
    "    ('scaler', StandardScaler()),\n",
    "    ('model', LinearRegression()),\n",
    "])\n",
    "\n",
    "pipe3 = Pipeline(steps=[\n",
    "    ('prep', prep3),\n",
    "    ('scaler', StandardScaler()),\n",
    "    ('model', LinearRegression()),\n",
    "])"
   ]
  },
  {
   "cell_type": "code",
   "execution_count": 9,
   "id": "14668ed4",
   "metadata": {},
   "outputs": [],
   "source": [
    "features = df.columns[:-1]\n",
    "target = df.columns[-1]\n",
    "\n",
    "X = df.loc[:, features]\n",
    "y = df.loc[:, [target]]\n",
    "\n",
    "X_train, X_test, y_train, y_test = train_test_split(X, y)"
   ]
  },
  {
   "cell_type": "code",
   "execution_count": 10,
   "id": "b3ba3466",
   "metadata": {
    "scrolled": true
   },
   "outputs": [
    {
     "name": "stdout",
     "output_type": "stream",
     "text": [
      "                            OLS Regression Results                            \n",
      "==============================================================================\n",
      "Dep. Variable:                      y   R-squared:                       0.719\n",
      "Model:                            OLS   Adj. R-squared:                  0.719\n",
      "Method:                 Least Squares   F-statistic:                     6386.\n",
      "Date:                Wed, 17 Aug 2022   Prob (F-statistic):               0.00\n",
      "Time:                        17:11:27   Log-Likelihood:                -39995.\n",
      "No. Observations:                7500   AIC:                         8.000e+04\n",
      "Df Residuals:                    7496   BIC:                         8.002e+04\n",
      "Df Model:                           3                                         \n",
      "Covariance Type:            nonrobust                                         \n",
      "==============================================================================\n",
      "                 coef    std err          t      P>|t|      [0.025      0.975]\n",
      "------------------------------------------------------------------------------\n",
      "const         10.0932      0.579     17.446      0.000       8.959      11.227\n",
      "x1            -0.6494      0.587     -1.107      0.268      -1.799       0.501\n",
      "x2            80.0140      0.578    138.402      0.000      78.881      81.147\n",
      "x3             0.2214      0.584      0.379      0.704      -0.923       1.366\n",
      "==============================================================================\n",
      "Omnibus:                        0.238   Durbin-Watson:                   2.012\n",
      "Prob(Omnibus):                  0.888   Jarque-Bera (JB):                0.206\n",
      "Skew:                          -0.006   Prob(JB):                        0.902\n",
      "Kurtosis:                       3.022   Cond. No.                         1.03\n",
      "==============================================================================\n",
      "\n",
      "Notes:\n",
      "[1] Standard Errors assume that the covariance matrix of the errors is correctly specified.\n"
     ]
    }
   ],
   "source": [
    "model = sm.OLS(y_train, sm.add_constant(prep1.fit_transform(X_train)))\n",
    "results = model.fit()\n",
    "print(results.summary())"
   ]
  },
  {
   "cell_type": "code",
   "execution_count": 11,
   "id": "489218b7",
   "metadata": {},
   "outputs": [],
   "source": [
    "# introduce missing values\n",
    "fraction_remove = 0.2\n",
    "for col in features:\n",
    "    remove_idx = list(np.random.randint(n, size=int(fraction_remove * n)))\n",
    "    df.loc[remove_idx, col] = np.nan"
   ]
  },
  {
   "cell_type": "code",
   "execution_count": 12,
   "id": "77157d36",
   "metadata": {
    "scrolled": true
   },
   "outputs": [
    {
     "data": {
      "text/html": [
       "<div>\n",
       "<style scoped>\n",
       "    .dataframe tbody tr th:only-of-type {\n",
       "        vertical-align: middle;\n",
       "    }\n",
       "\n",
       "    .dataframe tbody tr th {\n",
       "        vertical-align: top;\n",
       "    }\n",
       "\n",
       "    .dataframe thead th {\n",
       "        text-align: right;\n",
       "    }\n",
       "</style>\n",
       "<table border=\"1\" class=\"dataframe\">\n",
       "  <thead>\n",
       "    <tr style=\"text-align: right;\">\n",
       "      <th></th>\n",
       "      <th>x_0</th>\n",
       "      <th>x_1</th>\n",
       "      <th>x_2</th>\n",
       "      <th>y</th>\n",
       "    </tr>\n",
       "  </thead>\n",
       "  <tbody>\n",
       "    <tr>\n",
       "      <th>count</th>\n",
       "      <td>8185.000000</td>\n",
       "      <td>8200.000000</td>\n",
       "      <td>8191.000000</td>\n",
       "      <td>10000.000000</td>\n",
       "    </tr>\n",
       "    <tr>\n",
       "      <th>mean</th>\n",
       "      <td>-0.002124</td>\n",
       "      <td>-0.006353</td>\n",
       "      <td>-0.009472</td>\n",
       "      <td>9.854658</td>\n",
       "    </tr>\n",
       "    <tr>\n",
       "      <th>std</th>\n",
       "      <td>0.993675</td>\n",
       "      <td>0.989886</td>\n",
       "      <td>0.990338</td>\n",
       "      <td>93.641016</td>\n",
       "    </tr>\n",
       "    <tr>\n",
       "      <th>min</th>\n",
       "      <td>-4.659953</td>\n",
       "      <td>-3.694285</td>\n",
       "      <td>-3.740101</td>\n",
       "      <td>-359.852922</td>\n",
       "    </tr>\n",
       "    <tr>\n",
       "      <th>25%</th>\n",
       "      <td>-0.670107</td>\n",
       "      <td>-0.669846</td>\n",
       "      <td>-0.672324</td>\n",
       "      <td>-53.428216</td>\n",
       "    </tr>\n",
       "    <tr>\n",
       "      <th>50%</th>\n",
       "      <td>-0.008266</td>\n",
       "      <td>-0.000449</td>\n",
       "      <td>-0.015491</td>\n",
       "      <td>8.264379</td>\n",
       "    </tr>\n",
       "    <tr>\n",
       "      <th>75%</th>\n",
       "      <td>0.668735</td>\n",
       "      <td>0.654424</td>\n",
       "      <td>0.658584</td>\n",
       "      <td>73.863270</td>\n",
       "    </tr>\n",
       "    <tr>\n",
       "      <th>max</th>\n",
       "      <td>3.801660</td>\n",
       "      <td>3.427539</td>\n",
       "      <td>3.831790</td>\n",
       "      <td>423.648621</td>\n",
       "    </tr>\n",
       "  </tbody>\n",
       "</table>\n",
       "</div>"
      ],
      "text/plain": [
       "               x_0          x_1          x_2             y\n",
       "count  8185.000000  8200.000000  8191.000000  10000.000000\n",
       "mean     -0.002124    -0.006353    -0.009472      9.854658\n",
       "std       0.993675     0.989886     0.990338     93.641016\n",
       "min      -4.659953    -3.694285    -3.740101   -359.852922\n",
       "25%      -0.670107    -0.669846    -0.672324    -53.428216\n",
       "50%      -0.008266    -0.000449    -0.015491      8.264379\n",
       "75%       0.668735     0.654424     0.658584     73.863270\n",
       "max       3.801660     3.427539     3.831790    423.648621"
      ]
     },
     "execution_count": 12,
     "metadata": {},
     "output_type": "execute_result"
    }
   ],
   "source": [
    "df.describe()"
   ]
  },
  {
   "cell_type": "code",
   "execution_count": 13,
   "id": "69e48e1b",
   "metadata": {
    "scrolled": true
   },
   "outputs": [
    {
     "data": {
      "text/plain": [
       "[]"
      ]
     },
     "execution_count": 13,
     "metadata": {},
     "output_type": "execute_result"
    },
    {
     "data": {
      "image/png": "[encoded data removed]",
      "text/plain": [
       "<Figure size 432x288 with 1 Axes>"
      ]
     },
     "metadata": {
      "needs_background": "light"
     },
     "output_type": "display_data"
    }
   ],
   "source": [
    "feat = 'x_0'\n",
    "\n",
    "sns.kdeplot(df.loc[:, feat], linestyle='-.', linewidth=5, color='black', label='original')\n",
    "for name, preprocessing in zip(['mean', 'median', 'bootstrap'], [prep1, prep2, prep3]):\n",
    "    sns.kdeplot(preprocessing.fit_transform(df.loc[:, [feat]]).flatten(), label=name)\n",
    "plt.legend()\n",
    "plt.plot()"
   ]
  },
  {
   "cell_type": "code",
   "execution_count": 14,
   "id": "b4090058",
   "metadata": {},
   "outputs": [],
   "source": [
    "X = df.loc[:, features]\n",
    "y = df.loc[:, [target]]\n",
    "\n",
    "X_train, X_test, y_train, y_test = train_test_split(X, y)"
   ]
  },
  {
   "cell_type": "code",
   "execution_count": 72,
   "id": "fac8a07c",
   "metadata": {},
   "outputs": [
    {
     "name": "stdout",
     "output_type": "stream",
     "text": [
      "mean\n",
      "4007.909950433162 47.528487242142674\n",
      "median\n",
      "4007.3858178142973 47.52505720757076\n",
      "bootstrap\n",
      "4647.668025873792 50.77805537733406\n"
     ]
    }
   ],
   "source": [
    "for name, pipe in zip(['mean', 'median', 'bootstrap'], [pipe1, pipe2, pipe3]):\n",
    "    print(name)\n",
    "    pipe.fit(X_train, y_train)\n",
    "    pred = pipe.predict(X_test)\n",
    "    mse = mean_squared_error(y_test, pred)\n",
    "    mae = mean_absolute_error(y_test, pred)\n",
    "    \n",
    "    print(mse, mae)"
   ]
  },
  {
   "cell_type": "code",
   "execution_count": null,
   "id": "da86b2dc",
   "metadata": {},
   "outputs": [],
   "source": []
  }
 ],
 "metadata": {
  "kernelspec": {
   "display_name": "Python 3 (ipykernel)",
   "language": "python",
   "name": "python3"
  },
  "language_info": {
   "codemirror_mode": {
    "name": "ipython",
    "version": 3
   },
   "file_extension": ".py",
   "mimetype": "text/x-python",
   "name": "python",
   "nbconvert_exporter": "python",
   "pygments_lexer": "ipython3",
   "version": "3.12.3"
  }
 },
 "nbformat": 4,
 "nbformat_minor": 5
}
