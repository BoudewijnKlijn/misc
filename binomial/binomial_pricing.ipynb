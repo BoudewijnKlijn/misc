{
 "cells": [
  {
   "cell_type": "code",
   "execution_count": 1,
   "id": "824741d2",
   "metadata": {},
   "outputs": [],
   "source": [
    "import numpy as np\n",
    "import matplotlib.pyplot as plt"
   ]
  },
  {
   "cell_type": "code",
   "execution_count": 2,
   "id": "cfb7229c",
   "metadata": {},
   "outputs": [],
   "source": [
    "def calculate_option_price(\n",
    "    start_time = 0,\n",
    "    end_time = 1,\n",
    "    n_time_periods = 10000,\n",
    "    r = 0.05,\n",
    "    max_up = 1.2,\n",
    "    max_down = 0.8,\n",
    "    start_price = 100,\n",
    "    is_call_option = True,\n",
    "    option_strike = 100,\n",
    "    ):\n",
    "    \"\"\"Calculate stock and option prices and store in matrices. \n",
    "    A move up remains on the same row; a move down goes to the row below.\n",
    "    Columns represent time. To the right is one period into the future.\"\"\"\n",
    "    \n",
    "    t = (end_time - start_time) / n_time_periods\n",
    "    rows = cols = n_time_periods + 1\n",
    "    stock_price = np.ones((rows, cols)) * np.nan\n",
    "    option_price = np.ones((rows, cols)) * np.nan\n",
    "    \n",
    "    u = max_up ** (1/n_time_periods)\n",
    "    d = max_down ** (1/n_time_periods)\n",
    "\n",
    "    pv = np.exp(-r * t)  # present value\n",
    "    fv = np.exp(r * t)   # future value\n",
    "\n",
    "    for col in range(cols-1, -1, -1):\n",
    "        rows = np.arange(col + 1)\n",
    "        times_down = rows\n",
    "        times_up = col - rows\n",
    "        stock_price[rows, col] = start_price * u ** times_up * d ** times_down\n",
    "\n",
    "        if col == (cols - 1):\n",
    "            if is_call_option:\n",
    "                option_price[rows, col] = np.amax(stock_price[rows, col].reshape(-1, 1) - option_strike, axis=1, initial=0)\n",
    "            else:\n",
    "                option_price[rows, col] = np.amax(option_strike - stock_price[rows, col].reshape(-1, 1), axis=1, initial=0)\n",
    "        else:\n",
    "            option_price[rows, col] = pv / (u - d) * (option_price[rows, col+1] * (fv - d) + \\\n",
    "                                                      option_price[rows+1, col+1] * (u - fv))\n",
    "            \n",
    "    return option_price[0, 0], stock_price, option_price"
   ]
  },
  {
   "cell_type": "code",
   "execution_count": 3,
   "id": "455c3b0c",
   "metadata": {},
   "outputs": [],
   "source": [
    "def visualize(mat):\n",
    "    rows, cols = mat.shape\n",
    "    if cols < 5:\n",
    "        plt.figure()\n",
    "        for col in range(cols-1, -1, -1):\n",
    "            for row in range(col+1):\n",
    "                label = mat[row, col].round(2)\n",
    "                x = col\n",
    "                y = row * -1\n",
    "                plt.scatter(x, y, color='black')\n",
    "                plt.text(x+0.1, y, str(label))\n",
    "        plt.show()\n",
    "    \n",
    "    else:\n",
    "        plt.matshow(option_price)\n",
    "        plt.title(f'Start price: {str(mat[0, 0].round(2))}')\n",
    "        plt.colorbar()\n",
    "        plt.show()"
   ]
  },
  {
   "cell_type": "code",
   "execution_count": 4,
   "id": "f23064f2",
   "metadata": {},
   "outputs": [],
   "source": [
    "p, stock_price, option_price = calculate_option_price(n_time_periods = 4)"
   ]
  },
  {
   "cell_type": "code",
   "execution_count": 5,
   "id": "4bee25bf",
   "metadata": {
    "scrolled": true
   },
   "outputs": [
    {
     "data": {
      "image/png": "[encoded data removed]",
      "text/plain": [
       "<Figure size 288x288 with 2 Axes>"
      ]
     },
     "metadata": {
      "needs_background": "light"
     },
     "output_type": "display_data"
    }
   ],
   "source": [
    "visualize(option_price)"
   ]
  },
  {
   "cell_type": "code",
   "execution_count": 6,
   "id": "25e75f2e",
   "metadata": {},
   "outputs": [],
   "source": [
    "p, stock_price, option_price = calculate_option_price(n_time_periods = 10000)"
   ]
  },
  {
   "cell_type": "code",
   "execution_count": 7,
   "id": "85588051",
   "metadata": {
    "scrolled": true
   },
   "outputs": [
    {
     "data": {
      "image/png": "[encoded data removed]",
      "text/plain": [
       "<Figure size 288x288 with 2 Axes>"
      ]
     },
     "metadata": {
      "needs_background": "light"
     },
     "output_type": "display_data"
    }
   ],
   "source": [
    "visualize(option_price)"
   ]
  }
 ],
 "metadata": {
  "kernelspec": {
   "display_name": "Python 3",
   "language": "python",
   "name": "python3"
  },
  "language_info": {
   "codemirror_mode": {
    "name": "ipython",
    "version": 3
   },
   "file_extension": ".py",
   "mimetype": "text/x-python",
   "name": "python",
   "nbconvert_exporter": "python",
   "pygments_lexer": "ipython3",
   "version": "3.9.5"
  }
 },
 "nbformat": 4,
 "nbformat_minor": 5
}
