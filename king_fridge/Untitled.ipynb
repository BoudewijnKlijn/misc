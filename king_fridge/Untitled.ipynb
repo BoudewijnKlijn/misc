{
 "cells": [
  {
   "cell_type": "markdown",
   "id": "87bb12de",
   "metadata": {},
   "source": [
    "# How many times can we expect the latest drawn card to be the same as the previous card?\n",
    "\n",
    "Answer: 99% of the games will have at most __nine cards__ that are the same as the previous card. Assuming all 82 cards are drawn. "
   ]
  },
  {
   "cell_type": "code",
   "execution_count": 1,
   "id": "c8c5f3c3",
   "metadata": {},
   "outputs": [],
   "source": [
    "import numpy as np\n",
    "import random\n",
    "import matplotlib.pyplot as plt"
   ]
  },
  {
   "cell_type": "code",
   "execution_count": 2,
   "id": "cead0e58",
   "metadata": {},
   "outputs": [],
   "source": [
    "values = [-2, -1] + list(range(1, 16)) + [30]\n",
    "counts = [2, 2] + [5] * 15 + [3]\n",
    "letters = 'abcdefghijklmnopqrstuvwxyz'.upper()"
   ]
  },
  {
   "cell_type": "code",
   "execution_count": 3,
   "id": "e99e74e0",
   "metadata": {},
   "outputs": [],
   "source": [
    "value_map = dict(zip(values, letters))"
   ]
  },
  {
   "cell_type": "code",
   "execution_count": 4,
   "id": "520c8d83",
   "metadata": {},
   "outputs": [],
   "source": [
    "count_map = dict(zip(values, counts))\n",
    "assert sum(count_map.values()) == 82"
   ]
  },
  {
   "cell_type": "code",
   "execution_count": 5,
   "id": "329e253c",
   "metadata": {},
   "outputs": [],
   "source": [
    "cards = []\n",
    "\n",
    "for card, count in zip(value_map.values(), count_map.values()):\n",
    "    cards += [card] * count\n",
    "    \n",
    "assert len(cards) == 82"
   ]
  },
  {
   "cell_type": "code",
   "execution_count": 6,
   "id": "45b06482",
   "metadata": {},
   "outputs": [],
   "source": [
    "def count_repeat_cards(cards):\n",
    "    n_repeated = 0\n",
    "    prev = None\n",
    "    for card in cards:\n",
    "        if prev is None:\n",
    "            pass\n",
    "        elif prev == card:\n",
    "            n_repeated += 1\n",
    "        prev = card\n",
    "    return n_repeated"
   ]
  },
  {
   "cell_type": "code",
   "execution_count": 7,
   "id": "dc54e4b7",
   "metadata": {
    "scrolled": false
   },
   "outputs": [],
   "source": [
    "n_shuffles = 1_000_000\n",
    "n_repeated = {i: 0 for i in range(82)}\n",
    "uniques = set()\n",
    "for _ in range(n_shuffles):\n",
    "    random.shuffle(cards)\n",
    "    uniques.add(''.join(cards))\n",
    "    n_repeated[count_repeat_cards(cards)] += 1 "
   ]
  },
  {
   "cell_type": "code",
   "execution_count": 8,
   "id": "d79679e8",
   "metadata": {},
   "outputs": [
    {
     "data": {
      "text/plain": [
       "(1000000, 1000000)"
      ]
     },
     "execution_count": 8,
     "metadata": {},
     "output_type": "execute_result"
    }
   ],
   "source": [
    "len(uniques), n_shuffles"
   ]
  },
  {
   "cell_type": "code",
   "execution_count": 9,
   "id": "3687e577",
   "metadata": {},
   "outputs": [
    {
     "data": {
      "text/plain": [
       "(1.0, 20.0)"
      ]
     },
     "execution_count": 9,
     "metadata": {},
     "output_type": "execute_result"
    },
    {
     "data": {
      "image/png": "[encoded data removed]",
      "text/plain": [
       "<Figure size 432x288 with 1 Axes>"
      ]
     },
     "metadata": {
      "needs_background": "light"
     },
     "output_type": "display_data"
    }
   ],
   "source": [
    "plt.semilogy(n_repeated.values())\n",
    "plt.xlim([1, 20])"
   ]
  },
  {
   "cell_type": "code",
   "execution_count": 10,
   "id": "a2870667",
   "metadata": {},
   "outputs": [],
   "source": [
    "p = {n: val / n_shuffles for n, val in n_repeated.items() if val > 0}"
   ]
  },
  {
   "cell_type": "code",
   "execution_count": 11,
   "id": "0e575a0f",
   "metadata": {},
   "outputs": [
    {
     "data": {
      "image/png": "[encoded data removed]",
      "text/plain": [
       "<Figure size 432x288 with 1 Axes>"
      ]
     },
     "metadata": {
      "needs_background": "light"
     },
     "output_type": "display_data"
    }
   ],
   "source": [
    "plt.scatter(p.keys(), p.values())\n",
    "plt.xlabel('# cards that are the same as the previous card')\n",
    "plt.ylabel('percentage')\n",
    "plt.savefig('percentage.png')"
   ]
  },
  {
   "cell_type": "code",
   "execution_count": 12,
   "id": "59df58fa",
   "metadata": {},
   "outputs": [
    {
     "data": {
      "text/plain": [
       "{0: 0.02089,\n",
       " 1: 0.082702,\n",
       " 2: 0.161444,\n",
       " 3: 0.208453,\n",
       " 4: 0.198927,\n",
       " 5: 0.15042,\n",
       " 6: 0.093602,\n",
       " 7: 0.048475,\n",
       " 8: 0.022013,\n",
       " 9: 0.008764,\n",
       " 10: 0.00301,\n",
       " 11: 0.000952,\n",
       " 12: 0.000276,\n",
       " 13: 5.5e-05,\n",
       " 14: 1.2e-05,\n",
       " 15: 5e-06}"
      ]
     },
     "execution_count": 12,
     "metadata": {},
     "output_type": "execute_result"
    }
   ],
   "source": [
    "p"
   ]
  }
 ],
 "metadata": {
  "kernelspec": {
   "display_name": "Python 3",
   "language": "python",
   "name": "python3"
  },
  "language_info": {
   "codemirror_mode": {
    "name": "ipython",
    "version": 3
   },
   "file_extension": ".py",
   "mimetype": "text/x-python",
   "name": "python",
   "nbconvert_exporter": "python",
   "pygments_lexer": "ipython3",
   "version": "3.9.5"
  }
 },
 "nbformat": 4,
 "nbformat_minor": 5
}
